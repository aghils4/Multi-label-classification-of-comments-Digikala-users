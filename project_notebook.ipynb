{
 "cells": [
  {
   "cell_type": "code",
   "execution_count": 1,
   "id": "40ab9f84",
   "metadata": {},
   "outputs": [],
   "source": [
    "import pandas as pd\n",
    "import numpy as np\n",
    "import tensorflow as tf\n",
    "from collections import Counter\n",
    "import pickle\n",
    "from tensorflow.keras.layers import Embedding,LSTM,Dropout,BatchNormalization,GlobalMaxPooling1D,Dense,Input,Flatten,TimeDistributed\n",
    "from tensorflow.keras.models import Model,Sequential\n",
    "from tensorflow.keras import layers\n",
    "from tensorflow.keras import backend as K\n",
    "from hazm import *\n",
    "import string\n",
    "import re\n",
    "import matplotlib.pyplot as plt\n",
    "from tensorflow.keras.preprocessing.text import Tokenizer\n",
    "from tensorflow.keras.preprocessing.sequence import pad_sequences\n",
    "from tensorflow.keras.layers import GRU"
   ]
  },
  {
   "cell_type": "code",
   "execution_count": null,
   "id": "df6aa48b",
   "metadata": {},
   "outputs": [],
   "source": []
  },
  {
   "cell_type": "code",
   "execution_count": 2,
   "id": "c1d6a8a6",
   "metadata": {},
   "outputs": [],
   "source": [
    "df=pd.read_csv('train.csv',low_memory=False)\n",
    "df1=pd.read_csv('test.csv',low_memory=False)"
   ]
  },
  {
   "cell_type": "code",
   "execution_count": 3,
   "id": "69615b4e",
   "metadata": {},
   "outputs": [
    {
     "data": {
      "text/html": [
       "<div>\n",
       "<style scoped>\n",
       "    .dataframe tbody tr th:only-of-type {\n",
       "        vertical-align: middle;\n",
       "    }\n",
       "\n",
       "    .dataframe tbody tr th {\n",
       "        vertical-align: top;\n",
       "    }\n",
       "\n",
       "    .dataframe thead th {\n",
       "        text-align: right;\n",
       "    }\n",
       "</style>\n",
       "<table border=\"1\" class=\"dataframe\">\n",
       "  <thead>\n",
       "    <tr style=\"text-align: right;\">\n",
       "      <th></th>\n",
       "      <th>id</th>\n",
       "      <th>comment</th>\n",
       "      <th>product_id</th>\n",
       "      <th>product_title_fa</th>\n",
       "      <th>category_id</th>\n",
       "      <th>category_title_fa</th>\n",
       "      <th>is_buyer</th>\n",
       "      <th>price_value</th>\n",
       "      <th>fake_originality</th>\n",
       "      <th>warranty</th>\n",
       "      <th>size</th>\n",
       "      <th>discrepancy</th>\n",
       "      <th>flavor_odor</th>\n",
       "      <th>expiration_date</th>\n",
       "    </tr>\n",
       "  </thead>\n",
       "  <tbody>\n",
       "    <tr>\n",
       "      <th>0</th>\n",
       "      <td>1215666.0</td>\n",
       "      <td>ارزششو داشت</td>\n",
       "      <td>2802959</td>\n",
       "      <td>جوراب مردانه فیرو پلاس مدل FP200 مجموعه 4 عددی</td>\n",
       "      <td>9456</td>\n",
       "      <td>جوراب و ساق مردانه</td>\n",
       "      <td>TRUE</td>\n",
       "      <td>1.0</td>\n",
       "      <td>0.0</td>\n",
       "      <td>0.0</td>\n",
       "      <td>0.0</td>\n",
       "      <td>0.0</td>\n",
       "      <td>0.0</td>\n",
       "      <td>0.0</td>\n",
       "    </tr>\n",
       "    <tr>\n",
       "      <th>1</th>\n",
       "      <td>1183149.0</td>\n",
       "      <td>یه دستگاه کاربردی فقط ای کاش طرز استفادشو میزد...</td>\n",
       "      <td>1894596</td>\n",
       "      <td>دستگاه سفید کننده دندان دنتال وایت مدل DT-1244</td>\n",
       "      <td>5745</td>\n",
       "      <td>مسواک برقی</td>\n",
       "      <td>TRUE</td>\n",
       "      <td>0.0</td>\n",
       "      <td>0.0</td>\n",
       "      <td>0.0</td>\n",
       "      <td>0.0</td>\n",
       "      <td>0.0</td>\n",
       "      <td>0.0</td>\n",
       "      <td>0.0</td>\n",
       "    </tr>\n",
       "    <tr>\n",
       "      <th>2</th>\n",
       "      <td>1011730.0</td>\n",
       "      <td>خیلی خوب و ارزان</td>\n",
       "      <td>323729</td>\n",
       "      <td>کتاب بهترین قصه ملانصرالدین کلک مرغابی اثر مهر...</td>\n",
       "      <td>5918</td>\n",
       "      <td>کتاب چاپی</td>\n",
       "      <td>TRUE</td>\n",
       "      <td>1.0</td>\n",
       "      <td>0.0</td>\n",
       "      <td>0.0</td>\n",
       "      <td>0.0</td>\n",
       "      <td>0.0</td>\n",
       "      <td>0.0</td>\n",
       "      <td>0.0</td>\n",
       "    </tr>\n",
       "    <tr>\n",
       "      <th>3</th>\n",
       "      <td>1093325.0</td>\n",
       "      <td>اندازش خیلیییییی بزرگ بود</td>\n",
       "      <td>1431242</td>\n",
       "      <td>نوار بهداشتی تافته مدل Thin بسته 7 عددی</td>\n",
       "      <td>6528</td>\n",
       "      <td>نوار بهداشتی</td>\n",
       "      <td>TRUE</td>\n",
       "      <td>0.0</td>\n",
       "      <td>0.0</td>\n",
       "      <td>0.0</td>\n",
       "      <td>1.0</td>\n",
       "      <td>0.0</td>\n",
       "      <td>0.0</td>\n",
       "      <td>0.0</td>\n",
       "    </tr>\n",
       "    <tr>\n",
       "      <th>4</th>\n",
       "      <td>1111983.0</td>\n",
       "      <td>خیلی بد بود و میچسبید به دست</td>\n",
       "      <td>1902220</td>\n",
       "      <td>ژل بازی کد shb57</td>\n",
       "      <td>6083</td>\n",
       "      <td>ابزار شوخی</td>\n",
       "      <td>FALSE</td>\n",
       "      <td>0.0</td>\n",
       "      <td>0.0</td>\n",
       "      <td>0.0</td>\n",
       "      <td>0.0</td>\n",
       "      <td>0.0</td>\n",
       "      <td>0.0</td>\n",
       "      <td>0.0</td>\n",
       "    </tr>\n",
       "    <tr>\n",
       "      <th>...</th>\n",
       "      <td>...</td>\n",
       "      <td>...</td>\n",
       "      <td>...</td>\n",
       "      <td>...</td>\n",
       "      <td>...</td>\n",
       "      <td>...</td>\n",
       "      <td>...</td>\n",
       "      <td>...</td>\n",
       "      <td>...</td>\n",
       "      <td>...</td>\n",
       "      <td>...</td>\n",
       "      <td>...</td>\n",
       "      <td>...</td>\n",
       "      <td>...</td>\n",
       "    </tr>\n",
       "    <tr>\n",
       "      <th>179994</th>\n",
       "      <td>1113909.0</td>\n",
       "      <td>خیلی خوب بود  و کاربردی</td>\n",
       "      <td>451814</td>\n",
       "      <td>جای کاغذ یادداشت رایدین مدل طلقی به همراه یک ب...</td>\n",
       "      <td>6014</td>\n",
       "      <td>لوازم اداری رومیزی</td>\n",
       "      <td>TRUE</td>\n",
       "      <td>0.0</td>\n",
       "      <td>0.0</td>\n",
       "      <td>0.0</td>\n",
       "      <td>0.0</td>\n",
       "      <td>0.0</td>\n",
       "      <td>0.0</td>\n",
       "      <td>0.0</td>\n",
       "    </tr>\n",
       "    <tr>\n",
       "      <th>179995</th>\n",
       "      <td>1100949.0</td>\n",
       "      <td>+ممنون از فروشنده+\\r\\n+ممنون از دیجی کالا+</td>\n",
       "      <td>791984</td>\n",
       "      <td>دوشاخه برق الکتروفراز کد 003</td>\n",
       "      <td>1289</td>\n",
       "      <td>چندراهی برق و محافظ ولتاژ</td>\n",
       "      <td>TRUE</td>\n",
       "      <td>0.0</td>\n",
       "      <td>0.0</td>\n",
       "      <td>0.0</td>\n",
       "      <td>0.0</td>\n",
       "      <td>0.0</td>\n",
       "      <td>0.0</td>\n",
       "      <td>0.0</td>\n",
       "    </tr>\n",
       "    <tr>\n",
       "      <th>179996</th>\n",
       "      <td>1161446.0</td>\n",
       "      <td>ماست خوشمزه و با کیفیت</td>\n",
       "      <td>1578085</td>\n",
       "      <td>ماست گلدن پاک - 2.5 کیلوگرم</td>\n",
       "      <td>9216</td>\n",
       "      <td>ماست</td>\n",
       "      <td>TRUE</td>\n",
       "      <td>0.0</td>\n",
       "      <td>0.0</td>\n",
       "      <td>0.0</td>\n",
       "      <td>0.0</td>\n",
       "      <td>0.0</td>\n",
       "      <td>1.0</td>\n",
       "      <td>0.0</td>\n",
       "    </tr>\n",
       "    <tr>\n",
       "      <th>179997</th>\n",
       "      <td>1057088.0</td>\n",
       "      <td>به قیمتش می ارزه . خوشگل</td>\n",
       "      <td>1781940</td>\n",
       "      <td>گیره مو کد PK272</td>\n",
       "      <td>9398</td>\n",
       "      <td>اکسسوری مو زنانه</td>\n",
       "      <td>TRUE</td>\n",
       "      <td>1.0</td>\n",
       "      <td>0.0</td>\n",
       "      <td>0.0</td>\n",
       "      <td>0.0</td>\n",
       "      <td>0.0</td>\n",
       "      <td>0.0</td>\n",
       "      <td>0.0</td>\n",
       "    </tr>\n",
       "    <tr>\n",
       "      <th>179998</th>\n",
       "      <td>1133203.0</td>\n",
       "      <td>جنس خمیر معمولی هست ولی قیمت مناسبی دارد بعد ا...</td>\n",
       "      <td>2998911</td>\n",
       "      <td>خمیر سیلیکون کافوتر مدل K-5211</td>\n",
       "      <td>5871</td>\n",
       "      <td>لوازم جانبی قطعات کامپیوتر</td>\n",
       "      <td>TRUE</td>\n",
       "      <td>1.0</td>\n",
       "      <td>0.0</td>\n",
       "      <td>0.0</td>\n",
       "      <td>0.0</td>\n",
       "      <td>0.0</td>\n",
       "      <td>0.0</td>\n",
       "      <td>0.0</td>\n",
       "    </tr>\n",
       "  </tbody>\n",
       "</table>\n",
       "<p>179999 rows × 14 columns</p>\n",
       "</div>"
      ],
      "text/plain": [
       "               id                                            comment  \\\n",
       "0       1215666.0                                        ارزششو داشت   \n",
       "1       1183149.0  یه دستگاه کاربردی فقط ای کاش طرز استفادشو میزد...   \n",
       "2       1011730.0                                   خیلی خوب و ارزان   \n",
       "3       1093325.0                          اندازش خیلیییییی بزرگ بود   \n",
       "4       1111983.0                       خیلی بد بود و میچسبید به دست   \n",
       "...           ...                                                ...   \n",
       "179994  1113909.0                           خیلی خوب بود  و کاربردی    \n",
       "179995  1100949.0         +ممنون از فروشنده+\\r\\n+ممنون از دیجی کالا+   \n",
       "179996  1161446.0                             ماست خوشمزه و با کیفیت   \n",
       "179997  1057088.0                           به قیمتش می ارزه . خوشگل   \n",
       "179998  1133203.0  جنس خمیر معمولی هست ولی قیمت مناسبی دارد بعد ا...   \n",
       "\n",
       "       product_id                                   product_title_fa  \\\n",
       "0         2802959     جوراب مردانه فیرو پلاس مدل FP200 مجموعه 4 عددی   \n",
       "1         1894596     دستگاه سفید کننده دندان دنتال وایت مدل DT-1244   \n",
       "2          323729  کتاب بهترین قصه ملانصرالدین کلک مرغابی اثر مهر...   \n",
       "3         1431242            نوار بهداشتی تافته مدل Thin بسته 7 عددی   \n",
       "4         1902220                                   ژل بازی کد shb57   \n",
       "...           ...                                                ...   \n",
       "179994     451814  جای کاغذ یادداشت رایدین مدل طلقی به همراه یک ب...   \n",
       "179995     791984                      دوشاخه برق الکتروفراز کد 003    \n",
       "179996    1578085                        ماست گلدن پاک - 2.5 کیلوگرم   \n",
       "179997    1781940                                   گیره مو کد PK272   \n",
       "179998    2998911                     خمیر سیلیکون کافوتر مدل K-5211   \n",
       "\n",
       "       category_id           category_title_fa is_buyer  price_value  \\\n",
       "0             9456          جوراب و ساق مردانه     TRUE          1.0   \n",
       "1             5745                  مسواک برقی     TRUE          0.0   \n",
       "2             5918                   کتاب چاپی     TRUE          1.0   \n",
       "3             6528                نوار بهداشتی     TRUE          0.0   \n",
       "4             6083                  ابزار شوخی    FALSE          0.0   \n",
       "...            ...                         ...      ...          ...   \n",
       "179994        6014          لوازم اداری رومیزی     TRUE          0.0   \n",
       "179995        1289   چندراهی برق و محافظ ولتاژ     TRUE          0.0   \n",
       "179996        9216                        ماست     TRUE          0.0   \n",
       "179997        9398            اکسسوری مو زنانه     TRUE          1.0   \n",
       "179998        5871  لوازم جانبی قطعات کامپیوتر     TRUE          1.0   \n",
       "\n",
       "        fake_originality  warranty  size  discrepancy  flavor_odor  \\\n",
       "0                    0.0       0.0   0.0          0.0          0.0   \n",
       "1                    0.0       0.0   0.0          0.0          0.0   \n",
       "2                    0.0       0.0   0.0          0.0          0.0   \n",
       "3                    0.0       0.0   1.0          0.0          0.0   \n",
       "4                    0.0       0.0   0.0          0.0          0.0   \n",
       "...                  ...       ...   ...          ...          ...   \n",
       "179994               0.0       0.0   0.0          0.0          0.0   \n",
       "179995               0.0       0.0   0.0          0.0          0.0   \n",
       "179996               0.0       0.0   0.0          0.0          1.0   \n",
       "179997               0.0       0.0   0.0          0.0          0.0   \n",
       "179998               0.0       0.0   0.0          0.0          0.0   \n",
       "\n",
       "        expiration_date  \n",
       "0                   0.0  \n",
       "1                   0.0  \n",
       "2                   0.0  \n",
       "3                   0.0  \n",
       "4                   0.0  \n",
       "...                 ...  \n",
       "179994              0.0  \n",
       "179995              0.0  \n",
       "179996              0.0  \n",
       "179997              0.0  \n",
       "179998              0.0  \n",
       "\n",
       "[179999 rows x 14 columns]"
      ]
     },
     "execution_count": 3,
     "metadata": {},
     "output_type": "execute_result"
    }
   ],
   "source": [
    "df"
   ]
  },
  {
   "cell_type": "code",
   "execution_count": null,
   "id": "af9d6148",
   "metadata": {},
   "outputs": [],
   "source": []
  },
  {
   "cell_type": "code",
   "execution_count": 3,
   "id": "f57dd445",
   "metadata": {},
   "outputs": [],
   "source": [
    "df['is_buyer'].replace('TRUE',True,inplace=True)\n",
    "df['is_buyer'].replace('FALSE',False,inplace=True)\n",
    "df.dropna(inplace=True)"
   ]
  },
  {
   "cell_type": "code",
   "execution_count": 4,
   "id": "bae18276",
   "metadata": {},
   "outputs": [
    {
     "data": {
      "text/plain": [
       "array([1, 0], dtype=int64)"
      ]
     },
     "execution_count": 4,
     "metadata": {},
     "output_type": "execute_result"
    }
   ],
   "source": [
    "df.reset_index(inplace=True)\n",
    "df['is_buyer'] =df['is_buyer'].map({True:1,False:0})\n",
    "df1['is_buyer'] =df1['is_buyer'].map({True:1,False:0})\n",
    "df1.is_buyer.unique()"
   ]
  },
  {
   "cell_type": "code",
   "execution_count": 5,
   "id": "0d15e49f",
   "metadata": {},
   "outputs": [
    {
     "data": {
      "text/plain": [
       "1    171251\n",
       "0      8743\n",
       "Name: is_buyer, dtype: int64"
      ]
     },
     "execution_count": 5,
     "metadata": {},
     "output_type": "execute_result"
    }
   ],
   "source": [
    "df['is_buyer'].value_counts()"
   ]
  },
  {
   "cell_type": "code",
   "execution_count": 6,
   "id": "b937de03",
   "metadata": {},
   "outputs": [],
   "source": [
    "df_train=df.drop(columns=['index','id','product_id','category_id'])\n",
    "df_test=df1.drop(columns=['id','product_id','category_id'])"
   ]
  },
  {
   "cell_type": "code",
   "execution_count": 7,
   "id": "beabf772",
   "metadata": {},
   "outputs": [],
   "source": [
    "df_train[\"text\"] = df_train['comment']\n",
    "df_test[\"text\"] = df_test['comment']"
   ]
  },
  {
   "cell_type": "code",
   "execution_count": 8,
   "id": "cbbec459",
   "metadata": {
    "scrolled": true
   },
   "outputs": [],
   "source": [
    "df_train['length'] = df_train['text'].apply(lambda x: len(x))\n",
    "df_test['length'] = df_test['text'].apply(lambda x: len(x))"
   ]
  },
  {
   "cell_type": "code",
   "execution_count": 9,
   "id": "1b816066",
   "metadata": {},
   "outputs": [],
   "source": [
    "df_train.drop(columns=['comment','category_title_fa','product_title_fa'],inplace=True)\n",
    "df_test.drop(columns=['comment','category_title_fa','product_title_fa'],inplace=True)"
   ]
  },
  {
   "cell_type": "code",
   "execution_count": 10,
   "id": "9a4cf069",
   "metadata": {},
   "outputs": [],
   "source": [
    "def normalizeing(text):\n",
    "    normalizer = Normalizer()\n",
    "    return normalizer.normalize(text)\n",
    "df_train['text'] = df_train['text'].apply(lambda x: normalizeing(x))\n",
    "df_test['text'] = df_test['text'].apply(lambda x: normalizeing(x))"
   ]
  },
  {
   "cell_type": "code",
   "execution_count": 11,
   "id": "dc0c3da6",
   "metadata": {},
   "outputs": [],
   "source": [
    "def convert_to_lower(text):\n",
    "    return text.lower()\n",
    "df_train['text'] = df_train['text'].apply(lambda x: convert_to_lower(x))\n",
    "df_test['text'] = df_test['text'].apply(lambda x: convert_to_lower(x))"
   ]
  },
  {
   "cell_type": "code",
   "execution_count": 12,
   "id": "b58b0ba7",
   "metadata": {},
   "outputs": [],
   "source": [
    "def remove_numbers(text):\n",
    "    number_pattern = r'\\d+'\n",
    "    without_number = re.sub(pattern=number_pattern, repl=\" \", string=text)\n",
    "    return without_number\n",
    "df_train['text'] = df_train['text'].apply(lambda x: remove_numbers(x))\n",
    "df_test['text'] = df_test['text'].apply(lambda x: remove_numbers(x))"
   ]
  },
  {
   "cell_type": "code",
   "execution_count": 13,
   "id": "6d5f4d63",
   "metadata": {},
   "outputs": [],
   "source": [
    "def remove_punctuation(text):\n",
    "    return text.translate(str.maketrans('', '', string.punctuation))\n",
    "df_train['text'] = df_train['text'].apply(lambda x: remove_punctuation(x))\n",
    "df_test['text'] = df_test['text'].apply(lambda x: remove_punctuation(x))"
   ]
  },
  {
   "cell_type": "code",
   "execution_count": 14,
   "id": "7031bb22",
   "metadata": {},
   "outputs": [
    {
     "name": "stdout",
     "output_type": "stream",
     "text": [
      "[nltk_data] Downloading package stopwords to\n",
      "[nltk_data]     C:\\Users\\Aghil\\AppData\\Roaming\\nltk_data...\n",
      "[nltk_data]   Package stopwords is already up-to-date!\n"
     ]
    }
   ],
   "source": [
    "with open('stopwords.txt',encoding='utf-8') as stopwords_file:\n",
    "    stopwords=stopwords_file.readlines()\n",
    "stopwords=[line.replace('\\n','') for line in stopwords]\n",
    "import nltk\n",
    "nltk.download('stopwords')\n",
    "nltk_stopwords=nltk.corpus.stopwords.words('english')\n",
    "stopwords.extend(nltk_stopwords)"
   ]
  },
  {
   "cell_type": "code",
   "execution_count": 15,
   "id": "804478c9",
   "metadata": {},
   "outputs": [],
   "source": [
    "def remove_stopwords(text):\n",
    "    removed = []\n",
    "    stop_words = stopwords\n",
    "    tokens = word_tokenize(text)\n",
    "    for i in range(len(tokens)):\n",
    "        if tokens[i] not in stop_words:\n",
    "            removed.append(tokens[i])\n",
    "    return \" \".join(removed)\n",
    "df_train['text'] = df_train['text'].apply(lambda x: remove_stopwords(x))\n",
    "df_test['text'] = df_test['text'].apply(lambda x: remove_stopwords(x))"
   ]
  },
  {
   "cell_type": "code",
   "execution_count": 16,
   "id": "98d13c40",
   "metadata": {},
   "outputs": [],
   "source": [
    "def remove_extra_white_spaces(text):\n",
    "    single_char_pattern = r'\\s+[a-zA-Z0-9آ-ی۰-۹]\\s+'\n",
    "    without_sc = re.sub(pattern=single_char_pattern, repl=\" \", string=text)\n",
    "    return without_sc\n",
    "df_train['text'] = df_train['text'].apply(lambda x: remove_extra_white_spaces(x))\n",
    "df_test['text'] = df_test['text'].apply(lambda x: remove_extra_white_spaces(x))"
   ]
  },
  {
   "cell_type": "code",
   "execution_count": 17,
   "id": "f85abcec",
   "metadata": {
    "scrolled": true
   },
   "outputs": [],
   "source": [
    "def stemmering(text):\n",
    "    stemmer = Stemmer()\n",
    "    tokens = word_tokenize(text)\n",
    "    for i in range(len(tokens)):\n",
    "        lemma_word = stemmer.stem(tokens[i])\n",
    "        tokens[i] = lemma_word\n",
    "    return \" \".join(tokens)\n",
    "df_train['text'] = df_train['text'].apply(lambda x: stemmering(x))\n",
    "df_test['text'] = df_test['text'].apply(lambda x: stemmering(x))"
   ]
  },
  {
   "cell_type": "code",
   "execution_count": 18,
   "id": "693d370a",
   "metadata": {},
   "outputs": [],
   "source": [
    "df_train['length_after_cleaning'] = df_train['text'].apply(lambda x: len(x))\n",
    "df_test['length_after_cleaning'] = df_test['text'].apply(lambda x: len(x))"
   ]
  },
  {
   "cell_type": "code",
   "execution_count": 19,
   "id": "dcba98a1",
   "metadata": {},
   "outputs": [
    {
     "data": {
      "text/html": [
       "<div>\n",
       "<style scoped>\n",
       "    .dataframe tbody tr th:only-of-type {\n",
       "        vertical-align: middle;\n",
       "    }\n",
       "\n",
       "    .dataframe tbody tr th {\n",
       "        vertical-align: top;\n",
       "    }\n",
       "\n",
       "    .dataframe thead th {\n",
       "        text-align: right;\n",
       "    }\n",
       "</style>\n",
       "<table border=\"1\" class=\"dataframe\">\n",
       "  <thead>\n",
       "    <tr style=\"text-align: right;\">\n",
       "      <th></th>\n",
       "      <th>is_buyer</th>\n",
       "      <th>text</th>\n",
       "      <th>length</th>\n",
       "      <th>length_after_cleaning</th>\n",
       "    </tr>\n",
       "  </thead>\n",
       "  <tbody>\n",
       "    <tr>\n",
       "      <th>0</th>\n",
       "      <td>1</td>\n",
       "      <td>معمولیه کیفیت</td>\n",
       "      <td>56</td>\n",
       "      <td>13</td>\n",
       "    </tr>\n",
       "    <tr>\n",
       "      <th>1</th>\n",
       "      <td>1</td>\n",
       "      <td>پول می‌ارزه</td>\n",
       "      <td>36</td>\n",
       "      <td>11</td>\n",
       "    </tr>\n",
       "    <tr>\n",
       "      <th>2</th>\n",
       "      <td>1</td>\n",
       "      <td>ای بدک</td>\n",
       "      <td>14</td>\n",
       "      <td>6</td>\n",
       "    </tr>\n",
       "    <tr>\n",
       "      <th>3</th>\n",
       "      <td>1</td>\n",
       "      <td>خوبه قیم</td>\n",
       "      <td>38</td>\n",
       "      <td>8</td>\n",
       "    </tr>\n",
       "    <tr>\n",
       "      <th>4</th>\n",
       "      <td>1</td>\n",
       "      <td>ظریف</td>\n",
       "      <td>15</td>\n",
       "      <td>4</td>\n",
       "    </tr>\n",
       "  </tbody>\n",
       "</table>\n",
       "</div>"
      ],
      "text/plain": [
       "   is_buyer           text  length  length_after_cleaning\n",
       "0         1  معمولیه کیفیت      56                     13\n",
       "1         1    پول می‌ارزه      36                     11\n",
       "2         1         ای بدک      14                      6\n",
       "3         1       خوبه قیم      38                      8\n",
       "4         1           ظریف      15                      4"
      ]
     },
     "execution_count": 19,
     "metadata": {},
     "output_type": "execute_result"
    }
   ],
   "source": [
    "df_test.head()"
   ]
  },
  {
   "cell_type": "code",
   "execution_count": 20,
   "id": "48ee4799",
   "metadata": {},
   "outputs": [
    {
     "data": {
      "text/html": [
       "<div>\n",
       "<style scoped>\n",
       "    .dataframe tbody tr th:only-of-type {\n",
       "        vertical-align: middle;\n",
       "    }\n",
       "\n",
       "    .dataframe tbody tr th {\n",
       "        vertical-align: top;\n",
       "    }\n",
       "\n",
       "    .dataframe thead th {\n",
       "        text-align: right;\n",
       "    }\n",
       "</style>\n",
       "<table border=\"1\" class=\"dataframe\">\n",
       "  <thead>\n",
       "    <tr style=\"text-align: right;\">\n",
       "      <th></th>\n",
       "      <th>is_buyer</th>\n",
       "      <th>price_value</th>\n",
       "      <th>fake_originality</th>\n",
       "      <th>warranty</th>\n",
       "      <th>size</th>\n",
       "      <th>discrepancy</th>\n",
       "      <th>flavor_odor</th>\n",
       "      <th>expiration_date</th>\n",
       "      <th>text</th>\n",
       "      <th>length</th>\n",
       "      <th>length_after_cleaning</th>\n",
       "    </tr>\n",
       "  </thead>\n",
       "  <tbody>\n",
       "    <tr>\n",
       "      <th>0</th>\n",
       "      <td>1</td>\n",
       "      <td>1.0</td>\n",
       "      <td>0.0</td>\n",
       "      <td>0.0</td>\n",
       "      <td>0.0</td>\n",
       "      <td>0.0</td>\n",
       "      <td>0.0</td>\n",
       "      <td>0.0</td>\n",
       "      <td>ارزششو</td>\n",
       "      <td>11</td>\n",
       "      <td>6</td>\n",
       "    </tr>\n",
       "    <tr>\n",
       "      <th>1</th>\n",
       "      <td>1</td>\n",
       "      <td>0.0</td>\n",
       "      <td>0.0</td>\n",
       "      <td>0.0</td>\n",
       "      <td>0.0</td>\n",
       "      <td>0.0</td>\n",
       "      <td>0.0</td>\n",
       "      <td>0.0</td>\n",
       "      <td>دستگاه کاربرد طرز استفادشو میزد اینقد نباش</td>\n",
       "      <td>76</td>\n",
       "      <td>42</td>\n",
       "    </tr>\n",
       "    <tr>\n",
       "      <th>2</th>\n",
       "      <td>1</td>\n",
       "      <td>1.0</td>\n",
       "      <td>0.0</td>\n",
       "      <td>0.0</td>\n",
       "      <td>0.0</td>\n",
       "      <td>0.0</td>\n",
       "      <td>0.0</td>\n",
       "      <td>0.0</td>\n",
       "      <td>ارز</td>\n",
       "      <td>16</td>\n",
       "      <td>3</td>\n",
       "    </tr>\n",
       "    <tr>\n",
       "      <th>3</th>\n",
       "      <td>1</td>\n",
       "      <td>0.0</td>\n",
       "      <td>0.0</td>\n",
       "      <td>0.0</td>\n",
       "      <td>1.0</td>\n",
       "      <td>0.0</td>\n",
       "      <td>0.0</td>\n",
       "      <td>0.0</td>\n",
       "      <td>انداز خیلییی</td>\n",
       "      <td>25</td>\n",
       "      <td>12</td>\n",
       "    </tr>\n",
       "    <tr>\n",
       "      <th>4</th>\n",
       "      <td>0</td>\n",
       "      <td>0.0</td>\n",
       "      <td>0.0</td>\n",
       "      <td>0.0</td>\n",
       "      <td>0.0</td>\n",
       "      <td>0.0</td>\n",
       "      <td>0.0</td>\n",
       "      <td>0.0</td>\n",
       "      <td>میچسبید دس</td>\n",
       "      <td>28</td>\n",
       "      <td>10</td>\n",
       "    </tr>\n",
       "  </tbody>\n",
       "</table>\n",
       "</div>"
      ],
      "text/plain": [
       "   is_buyer  price_value  fake_originality  warranty  size  discrepancy  \\\n",
       "0         1          1.0               0.0       0.0   0.0          0.0   \n",
       "1         1          0.0               0.0       0.0   0.0          0.0   \n",
       "2         1          1.0               0.0       0.0   0.0          0.0   \n",
       "3         1          0.0               0.0       0.0   1.0          0.0   \n",
       "4         0          0.0               0.0       0.0   0.0          0.0   \n",
       "\n",
       "   flavor_odor  expiration_date                                        text  \\\n",
       "0          0.0              0.0                                      ارزششو   \n",
       "1          0.0              0.0  دستگاه کاربرد طرز استفادشو میزد اینقد نباش   \n",
       "2          0.0              0.0                                         ارز   \n",
       "3          0.0              0.0                                انداز خیلییی   \n",
       "4          0.0              0.0                                  میچسبید دس   \n",
       "\n",
       "   length  length_after_cleaning  \n",
       "0      11                      6  \n",
       "1      76                     42  \n",
       "2      16                      3  \n",
       "3      25                     12  \n",
       "4      28                     10  "
      ]
     },
     "execution_count": 20,
     "metadata": {},
     "output_type": "execute_result"
    }
   ],
   "source": [
    "df_train.head()"
   ]
  },
  {
   "cell_type": "code",
   "execution_count": 21,
   "id": "e075fd62",
   "metadata": {},
   "outputs": [],
   "source": [
    "df_train['powerlabel'] = np.array(df_train.apply(lambda x : 64*x[\"price_value\"]+32*x['fake_originality']+\n",
    "                                       16*x['warranty']+8*x['size']+\n",
    "                                       4*x['discrepancy']+2*x['flavor_odor']+\n",
    "                                       1*x['expiration_date'],axis=1))"
   ]
  },
  {
   "cell_type": "code",
   "execution_count": 22,
   "id": "74f4bd7c",
   "metadata": {},
   "outputs": [],
   "source": [
    "from sklearn.preprocessing import OneHotEncoder"
   ]
  },
  {
   "cell_type": "code",
   "execution_count": 23,
   "id": "60540f37",
   "metadata": {},
   "outputs": [],
   "source": [
    "ohe=OneHotEncoder()"
   ]
  },
  {
   "cell_type": "code",
   "execution_count": null,
   "id": "2c6cce6d",
   "metadata": {},
   "outputs": [],
   "source": []
  },
  {
   "cell_type": "code",
   "execution_count": 240,
   "id": "035b20fe",
   "metadata": {},
   "outputs": [],
   "source": [
    "x=ohe.fit_transform(np.array(df_train.powerlabel).reshape(-1,1))"
   ]
  },
  {
   "cell_type": "code",
   "execution_count": 241,
   "id": "775a45ad",
   "metadata": {},
   "outputs": [],
   "source": [
    "label=x.toarray()"
   ]
  },
  {
   "cell_type": "code",
   "execution_count": 26,
   "id": "890a7d75",
   "metadata": {},
   "outputs": [
    {
     "data": {
      "text/plain": [
       "179994"
      ]
     },
     "execution_count": 26,
     "metadata": {},
     "output_type": "execute_result"
    }
   ],
   "source": [
    "buy=np.array(df_train['is_buyer'])\n",
    "len(buy)"
   ]
  },
  {
   "cell_type": "code",
   "execution_count": 27,
   "id": "9c0a1767",
   "metadata": {},
   "outputs": [
    {
     "data": {
      "text/plain": [
       "44131"
      ]
     },
     "execution_count": 27,
     "metadata": {},
     "output_type": "execute_result"
    }
   ],
   "source": [
    "buy_test=np.array(df_test['is_buyer'])\n",
    "len(buy_test)"
   ]
  },
  {
   "cell_type": "code",
   "execution_count": 28,
   "id": "9401a43a",
   "metadata": {},
   "outputs": [],
   "source": [
    "# Define the sequence lengths, max number of words and embedding dimensions\n",
    "MAX_SEQUENCE_LENGTH = 35 #can plot a graph for length\n",
    "MAX_NB_WORDS = 20000\n",
    "EMBEDDING_DIM = 200\n"
   ]
  },
  {
   "cell_type": "code",
   "execution_count": 29,
   "id": "fe07ff49",
   "metadata": {},
   "outputs": [
    {
     "name": "stdout",
     "output_type": "stream",
     "text": [
      "Found 41620 unique tokens.\n"
     ]
    }
   ],
   "source": [
    "# Get the frequently occurring words\n",
    "tokenizer = Tokenizer(num_words=MAX_NB_WORDS)\n",
    "tokenizer.fit_on_texts(df_train.text.astype(str))\n",
    "train_sequences = tokenizer.texts_to_sequences(df_train.text.astype(str))\n",
    "test_sequences = tokenizer.texts_to_sequences(df_test.text.astype(str))\n",
    "word_index = tokenizer.word_index\n",
    "print('Found %s unique tokens.' % len(word_index))\n",
    "\n",
    "for i in range(len(buy)):\n",
    "    if buy[i]==1:\n",
    "        train_sequences[i].append(41701)\n",
    "    else: train_sequences[i].append(41702)\n",
    "for i in range(len(buy_test)):\n",
    "    if buy[i]==1:\n",
    "        test_sequences[i].append(41701)\n",
    "    else: test_sequences[i].append(41702)\n",
    "    \n",
    "#some padding shit\n",
    "train_data = pad_sequences(train_sequences, maxlen=MAX_SEQUENCE_LENGTH,padding='post',\n",
    "    truncating='post')\n",
    "test_data = pad_sequences(test_sequences, maxlen=MAX_SEQUENCE_LENGTH,padding='post',\n",
    "    truncating='post')"
   ]
  },
  {
   "cell_type": "code",
   "execution_count": 30,
   "id": "00512e55",
   "metadata": {},
   "outputs": [],
   "source": [
    "label_data=df_train[['price_value', 'fake_originality', 'warranty', 'size','discrepancy', 'flavor_odor', 'expiration_date']]"
   ]
  },
  {
   "cell_type": "code",
   "execution_count": 31,
   "id": "db590eb2",
   "metadata": {},
   "outputs": [],
   "source": [
    "class_names=['price_value', 'fake_originality', 'warranty', 'size','discrepancy', 'flavor_odor', 'expiration_date']"
   ]
  },
  {
   "cell_type": "code",
   "execution_count": 229,
   "id": "2715d1ab",
   "metadata": {},
   "outputs": [
    {
     "data": {
      "text/plain": [
       "{'positive_weights': {'price_value': 2.5185257737728772,\n",
       "  'fake_originality': 71.3695479777954,\n",
       "  'warranty': 229.5841836734694,\n",
       "  'size': 6.168825827678388,\n",
       "  'discrepancy': 11.748955613577024,\n",
       "  'flavor_odor': 9.91702479338843,\n",
       "  'expiration_date': 169.16729323308272},\n",
       " 'negative_weights': {'price_value': 0.6238527658394566,\n",
       "  'fake_originality': 0.5035276082200825,\n",
       "  'warranty': 0.5010913018785982,\n",
       "  'size': 0.5441008433844201,\n",
       "  'discrepancy': 0.5222242853992828,\n",
       "  'flavor_odor': 0.5265476629280537,\n",
       "  'expiration_date': 0.5014822079325986}}"
      ]
     },
     "execution_count": 229,
     "metadata": {},
     "output_type": "execute_result"
    }
   ],
   "source": [
    "class_weights = {}\n",
    "positive_weights = {}\n",
    "negative_weights = {}\n",
    "\n",
    "for label in (class_names):\n",
    "    positive_weights[label] = df_train.shape[0] /(2 * np.count_nonzero(df_train[label] == 1))\n",
    "    negative_weights[label] = df_train.shape[0] /(2 * np.count_nonzero(df_train[label] == 0))\n",
    "    \n",
    "class_weights['positive_weights'] = positive_weights\n",
    "class_weights['negative_weights'] = negative_weights\n",
    "class_weights"
   ]
  },
  {
   "cell_type": "code",
   "execution_count": 261,
   "id": "d5a0158a",
   "metadata": {},
   "outputs": [],
   "source": [
    "class_weights1={'positive_weights': {'price_value': 1.0178571428571428,\n",
    "  'fake_originality': 1.2391304347826086,\n",
    "  'warranty': 2.375,\n",
    "  'size': 1.3571428571428572,\n",
    "  'discrepancy': 1.2954545454545454,\n",
    "  'flavor_odor': 1.3571428571428572,\n",
    "  'expiration_date': 1.78125},\n",
    " 'negative_weights': {'price_value': 0.9827586206896551,\n",
    "  'fake_originality': 0.8382352941176471,\n",
    "  'warranty': 0.6333333333333333,\n",
    "  'size': 0.7916666666666666,\n",
    "  'discrepancy': 0.8142857142857143,\n",
    "  'flavor_odor': 0.7916666666666666,\n",
    "  'expiration_date': 0.6951219512195121}}\n",
    "Wp = class_weights1['positive_weights']\n",
    "Wn = class_weights1['negative_weights']\n",
    "\n",
    "def custom_loss(y_true, y_logit):\n",
    "    '''\n",
    "    Multi-label cross-entropy\n",
    "    * Required \"Wp\", \"Wn\" as positive & negative class-weights\n",
    "    y_true: true value\n",
    "    y_logit: predicted value\n",
    "    '''\n",
    "    loss = float(0)\n",
    "    \n",
    "    for i, key in enumerate(Wp.keys()):\n",
    "        first_term = Wp[key] * y_true[i] * K.log(y_logit[i] + K.epsilon())\n",
    "        second_term = Wn[key] * (1 - y_true[i]) * K.log(1 - y_logit[i] + K.epsilon())\n",
    "        loss -= (first_term + second_term)\n",
    "    return loss"
   ]
  },
  {
   "cell_type": "code",
   "execution_count": 262,
   "id": "25b3872f",
   "metadata": {},
   "outputs": [],
   "source": [
    "def f1_score(y_true, y_logit):\n",
    "    '''\n",
    "    Calculate F1 score\n",
    "    y_true: true value\n",
    "    y_logit: predicted value\n",
    "    '''\n",
    "    true_positives = K.sum(K.round(K.clip(y_true * y_logit, 0, 1)))\n",
    "    possible_positives = K.sum(K.round(K.clip(y_true, 0, 1)))\n",
    "    recall = true_positives / (possible_positives + K.epsilon())\n",
    "    predicted_positives = K.sum(K.round(K.clip(y_logit, 0, 1)))\n",
    "    precision = true_positives / (predicted_positives + K.epsilon())\n",
    "    return (2 * precision * recall) / (precision + recall + K.epsilon())"
   ]
  },
  {
   "cell_type": "code",
   "execution_count": 263,
   "id": "a6a20b37",
   "metadata": {},
   "outputs": [
    {
     "data": {
      "text/plain": [
       "array([[0., 0., 0., ..., 0., 0., 0.],\n",
       "       [1., 0., 0., ..., 0., 0., 0.],\n",
       "       [0., 0., 0., ..., 0., 0., 0.],\n",
       "       ...,\n",
       "       [0., 0., 1., ..., 0., 0., 0.],\n",
       "       [0., 0., 0., ..., 0., 0., 0.],\n",
       "       [0., 0., 0., ..., 0., 0., 0.]])"
      ]
     },
     "execution_count": 263,
     "metadata": {},
     "output_type": "execute_result"
    }
   ],
   "source": [
    "label"
   ]
  },
  {
   "cell_type": "code",
   "execution_count": 264,
   "id": "99a8dd4c",
   "metadata": {},
   "outputs": [],
   "source": [
    "in1=Input(shape=(MAX_SEQUENCE_LENGTH))\n",
    "x=Embedding(MAX_NB_WORDS,100)(in1)\n",
    "x=LSTM(64,return_sequences=True)(x)\n",
    "x=LSTM(32,return_sequences=True)(x)\n",
    "x=GlobalMaxPooling1D()(x)\n",
    "#x=Dense(50,activation='relu')(x)\n",
    "#x=Dense(20,activation='relu')(x)\n",
    "x=Dense(10,activation='relu')(x)\n",
    "out=Dense(57,activation='sigmoid')(x)"
   ]
  },
  {
   "cell_type": "code",
   "execution_count": 265,
   "id": "0b5936de",
   "metadata": {},
   "outputs": [],
   "source": [
    "model = Model(inputs=in1, outputs=out)"
   ]
  },
  {
   "cell_type": "code",
   "execution_count": 266,
   "id": "af2b8029",
   "metadata": {},
   "outputs": [
    {
     "name": "stdout",
     "output_type": "stream",
     "text": [
      "Model: \"model_8\"\n",
      "_________________________________________________________________\n",
      " Layer (type)                Output Shape              Param #   \n",
      "=================================================================\n",
      " input_9 (InputLayer)        [(None, 35)]              0         \n",
      "                                                                 \n",
      " embedding_8 (Embedding)     (None, 35, 100)           2000000   \n",
      "                                                                 \n",
      " lstm_16 (LSTM)              (None, 35, 64)            42240     \n",
      "                                                                 \n",
      " lstm_17 (LSTM)              (None, 35, 32)            12416     \n",
      "                                                                 \n",
      " global_max_pooling1d_8 (Glo  (None, 32)               0         \n",
      " balMaxPooling1D)                                                \n",
      "                                                                 \n",
      " dense_22 (Dense)            (None, 10)                330       \n",
      "                                                                 \n",
      " dense_23 (Dense)            (None, 57)                627       \n",
      "                                                                 \n",
      "=================================================================\n",
      "Total params: 2,055,613\n",
      "Trainable params: 2,055,613\n",
      "Non-trainable params: 0\n",
      "_________________________________________________________________\n"
     ]
    }
   ],
   "source": [
    "model.summary()"
   ]
  },
  {
   "cell_type": "code",
   "execution_count": 267,
   "id": "be9f102c",
   "metadata": {},
   "outputs": [],
   "source": [
    "from tensorflow.keras.callbacks import EarlyStopping\n",
    "\n",
    "pat=EarlyStopping(patience=5)"
   ]
  },
  {
   "cell_type": "code",
   "execution_count": 268,
   "id": "eb2cd327",
   "metadata": {},
   "outputs": [],
   "source": [
    "model.compile(optimizer=tf.keras.optimizers.Adam(0.0001), loss=custom_loss, metrics=['accuracy',f1_score])"
   ]
  },
  {
   "cell_type": "code",
   "execution_count": 269,
   "id": "0139963f",
   "metadata": {
    "scrolled": true
   },
   "outputs": [
    {
     "name": "stdout",
     "output_type": "stream",
     "text": [
      "Epoch 1/50\n",
      "247/247 [==============================] - 13s 38ms/step - loss: 3.2550 - accuracy: 0.0232 - f1_score: 0.1350 - val_loss: 2.5544 - val_accuracy: 0.0408 - val_f1_score: 0.1732\n",
      "Epoch 2/50\n",
      "247/247 [==============================] - 8s 31ms/step - loss: 2.0392 - accuracy: 0.4487 - f1_score: 0.2681 - val_loss: 1.5767 - val_accuracy: 0.6516 - val_f1_score: 0.3463\n",
      "Epoch 3/50\n",
      "247/247 [==============================] - 8s 31ms/step - loss: 1.2786 - accuracy: 0.6495 - f1_score: 0.4550 - val_loss: 1.0001 - val_accuracy: 0.6516 - val_f1_score: 0.4617\n",
      "Epoch 4/50\n",
      "247/247 [==============================] - 8s 31ms/step - loss: 0.8380 - accuracy: 0.6495 - f1_score: 0.6384 - val_loss: 0.6770 - val_accuracy: 0.6516 - val_f1_score: 0.6518\n",
      "Epoch 5/50\n",
      "247/247 [==============================] - 8s 31ms/step - loss: 0.5830 - accuracy: 0.6495 - f1_score: 0.6495 - val_loss: 0.4937 - val_accuracy: 0.6516 - val_f1_score: 0.6518\n",
      "Epoch 6/50\n",
      "247/247 [==============================] - 8s 31ms/step - loss: 0.4524 - accuracy: 0.6495 - f1_score: 0.6490 - val_loss: 0.3913 - val_accuracy: 0.6516 - val_f1_score: 0.6518\n",
      "Epoch 7/50\n",
      "247/247 [==============================] - 8s 31ms/step - loss: 0.3780 - accuracy: 0.6495 - f1_score: 0.6493 - val_loss: 0.3406 - val_accuracy: 0.6516 - val_f1_score: 0.6518\n",
      "Epoch 8/50\n",
      "247/247 [==============================] - 8s 31ms/step - loss: 0.3439 - accuracy: 0.6495 - f1_score: 0.6494 - val_loss: 0.3148 - val_accuracy: 0.6516 - val_f1_score: 0.6518\n",
      "Epoch 9/50\n",
      "247/247 [==============================] - 8s 31ms/step - loss: 0.3253 - accuracy: 0.6495 - f1_score: 0.6491 - val_loss: 0.2994 - val_accuracy: 0.6516 - val_f1_score: 0.6518\n",
      "Epoch 10/50\n",
      "247/247 [==============================] - 8s 31ms/step - loss: 0.3104 - accuracy: 0.6495 - f1_score: 0.6498 - val_loss: 0.2898 - val_accuracy: 0.6516 - val_f1_score: 0.6518\n",
      "Epoch 11/50\n",
      "247/247 [==============================] - 8s 31ms/step - loss: 0.3055 - accuracy: 0.6495 - f1_score: 0.6496 - val_loss: 0.2826 - val_accuracy: 0.6516 - val_f1_score: 0.6518\n",
      "Epoch 12/50\n",
      "247/247 [==============================] - 8s 31ms/step - loss: 0.2903 - accuracy: 0.6495 - f1_score: 0.6493 - val_loss: 0.2775 - val_accuracy: 0.6516 - val_f1_score: 0.6518\n",
      "Epoch 13/50\n",
      "247/247 [==============================] - 8s 31ms/step - loss: 0.2833 - accuracy: 0.6495 - f1_score: 0.6497 - val_loss: 0.2735 - val_accuracy: 0.6516 - val_f1_score: 0.6518\n",
      "Epoch 14/50\n",
      "247/247 [==============================] - 8s 31ms/step - loss: 0.2822 - accuracy: 0.6495 - f1_score: 0.6498 - val_loss: 0.2701 - val_accuracy: 0.6516 - val_f1_score: 0.6518\n",
      "Epoch 15/50\n",
      "247/247 [==============================] - 8s 31ms/step - loss: 0.2795 - accuracy: 0.6495 - f1_score: 0.6495 - val_loss: 0.2674 - val_accuracy: 0.6516 - val_f1_score: 0.6518\n",
      "Epoch 16/50\n",
      "247/247 [==============================] - 8s 31ms/step - loss: 0.2892 - accuracy: 0.6495 - f1_score: 0.6501 - val_loss: 0.2654 - val_accuracy: 0.6516 - val_f1_score: 0.6518\n",
      "Epoch 17/50\n",
      "247/247 [==============================] - 8s 31ms/step - loss: 0.2779 - accuracy: 0.6495 - f1_score: 0.6496 - val_loss: 0.2637 - val_accuracy: 0.6516 - val_f1_score: 0.6518\n",
      "Epoch 18/50\n",
      "247/247 [==============================] - 8s 31ms/step - loss: 0.2612 - accuracy: 0.6495 - f1_score: 0.6493 - val_loss: 0.2620 - val_accuracy: 0.6516 - val_f1_score: 0.6518\n",
      "Epoch 19/50\n",
      "247/247 [==============================] - 8s 31ms/step - loss: 0.2782 - accuracy: 0.6495 - f1_score: 0.6496 - val_loss: 0.2607 - val_accuracy: 0.6516 - val_f1_score: 0.6518\n",
      "Epoch 20/50\n",
      "247/247 [==============================] - 8s 31ms/step - loss: 0.2583 - accuracy: 0.6495 - f1_score: 0.6492 - val_loss: 0.2596 - val_accuracy: 0.6516 - val_f1_score: 0.6518\n",
      "Epoch 21/50\n",
      "247/247 [==============================] - 8s 31ms/step - loss: 0.2907 - accuracy: 0.6495 - f1_score: 0.6492 - val_loss: 0.2589 - val_accuracy: 0.6516 - val_f1_score: 0.6518\n",
      "Epoch 22/50\n",
      "247/247 [==============================] - 8s 31ms/step - loss: 0.2738 - accuracy: 0.6495 - f1_score: 0.6498 - val_loss: 0.2576 - val_accuracy: 0.6516 - val_f1_score: 0.6518\n",
      "Epoch 23/50\n",
      "247/247 [==============================] - 8s 31ms/step - loss: 0.2740 - accuracy: 0.6495 - f1_score: 0.6497 - val_loss: 0.2571 - val_accuracy: 0.6516 - val_f1_score: 0.6518\n",
      "Epoch 24/50\n",
      "247/247 [==============================] - 8s 31ms/step - loss: 0.2785 - accuracy: 0.6495 - f1_score: 0.6494 - val_loss: 0.2564 - val_accuracy: 0.6516 - val_f1_score: 0.6518\n",
      "Epoch 25/50\n",
      "247/247 [==============================] - 8s 31ms/step - loss: 0.2761 - accuracy: 0.6495 - f1_score: 0.6495 - val_loss: 0.2558 - val_accuracy: 0.6516 - val_f1_score: 0.6518\n",
      "Epoch 26/50\n",
      "247/247 [==============================] - 8s 31ms/step - loss: 0.2720 - accuracy: 0.6495 - f1_score: 0.6500 - val_loss: 0.2549 - val_accuracy: 0.6516 - val_f1_score: 0.6518\n",
      "Epoch 27/50\n",
      "247/247 [==============================] - 8s 32ms/step - loss: 0.2571 - accuracy: 0.6495 - f1_score: 0.6496 - val_loss: 0.2539 - val_accuracy: 0.6516 - val_f1_score: 0.6518\n",
      "Epoch 28/50\n",
      "247/247 [==============================] - 8s 31ms/step - loss: 0.2715 - accuracy: 0.6495 - f1_score: 0.6498 - val_loss: 0.2534 - val_accuracy: 0.6516 - val_f1_score: 0.6518\n",
      "Epoch 29/50\n",
      "247/247 [==============================] - 8s 31ms/step - loss: 0.2661 - accuracy: 0.6495 - f1_score: 0.6500 - val_loss: 0.2526 - val_accuracy: 0.6516 - val_f1_score: 0.6518\n",
      "Epoch 30/50\n",
      "247/247 [==============================] - 8s 31ms/step - loss: 0.2670 - accuracy: 0.6495 - f1_score: 0.6493 - val_loss: 0.2519 - val_accuracy: 0.6516 - val_f1_score: 0.6518\n",
      "Epoch 31/50\n",
      "247/247 [==============================] - 8s 31ms/step - loss: 0.2701 - accuracy: 0.6495 - f1_score: 0.6496 - val_loss: 0.2515 - val_accuracy: 0.6516 - val_f1_score: 0.6518\n",
      "Epoch 32/50\n",
      "247/247 [==============================] - 8s 31ms/step - loss: 0.2728 - accuracy: 0.6495 - f1_score: 0.6496 - val_loss: 0.2504 - val_accuracy: 0.6516 - val_f1_score: 0.6518\n",
      "Epoch 33/50\n",
      "247/247 [==============================] - 8s 31ms/step - loss: 0.2593 - accuracy: 0.6495 - f1_score: 0.6495 - val_loss: 0.2408 - val_accuracy: 0.6516 - val_f1_score: 0.6518\n",
      "Epoch 34/50\n",
      "247/247 [==============================] - 8s 31ms/step - loss: 0.2443 - accuracy: 0.6495 - f1_score: 0.6495 - val_loss: 0.2322 - val_accuracy: 0.6516 - val_f1_score: 0.6518\n",
      "Epoch 35/50\n",
      "247/247 [==============================] - 8s 31ms/step - loss: 0.2467 - accuracy: 0.6495 - f1_score: 0.6492 - val_loss: 0.2267 - val_accuracy: 0.6516 - val_f1_score: 0.6518\n",
      "Epoch 36/50\n",
      "247/247 [==============================] - 8s 31ms/step - loss: 0.2428 - accuracy: 0.6495 - f1_score: 0.6500 - val_loss: 0.2228 - val_accuracy: 0.6516 - val_f1_score: 0.6531\n",
      "Epoch 37/50\n",
      "247/247 [==============================] - 8s 31ms/step - loss: 0.2410 - accuracy: 0.6495 - f1_score: 0.6536 - val_loss: 0.2201 - val_accuracy: 0.6516 - val_f1_score: 0.6578\n",
      "Epoch 38/50\n",
      "247/247 [==============================] - 8s 31ms/step - loss: 0.2317 - accuracy: 0.6495 - f1_score: 0.6579 - val_loss: 0.2161 - val_accuracy: 0.6517 - val_f1_score: 0.6645\n",
      "Epoch 39/50\n",
      "247/247 [==============================] - 8s 31ms/step - loss: 0.2240 - accuracy: 0.6496 - f1_score: 0.6633 - val_loss: 0.2134 - val_accuracy: 0.6518 - val_f1_score: 0.6673\n",
      "Epoch 40/50\n",
      "247/247 [==============================] - 8s 31ms/step - loss: 0.2259 - accuracy: 0.6513 - f1_score: 0.6685 - val_loss: 0.2111 - val_accuracy: 0.6541 - val_f1_score: 0.6712\n",
      "Epoch 41/50\n",
      "247/247 [==============================] - 8s 31ms/step - loss: 0.2278 - accuracy: 0.6548 - f1_score: 0.6739 - val_loss: 0.2094 - val_accuracy: 0.6608 - val_f1_score: 0.6776\n",
      "Epoch 42/50\n",
      "247/247 [==============================] - 8s 31ms/step - loss: 0.2175 - accuracy: 0.6588 - f1_score: 0.6754 - val_loss: 0.2070 - val_accuracy: 0.6611 - val_f1_score: 0.6787\n",
      "Epoch 43/50\n",
      "247/247 [==============================] - 8s 31ms/step - loss: 0.2160 - accuracy: 0.6626 - f1_score: 0.6781 - val_loss: 0.2050 - val_accuracy: 0.6712 - val_f1_score: 0.6819\n",
      "Epoch 44/50\n",
      "247/247 [==============================] - 8s 31ms/step - loss: 0.2130 - accuracy: 0.6683 - f1_score: 0.6833 - val_loss: 0.2020 - val_accuracy: 0.6767 - val_f1_score: 0.6916\n",
      "Epoch 45/50\n",
      "247/247 [==============================] - 8s 31ms/step - loss: 0.2131 - accuracy: 0.6793 - f1_score: 0.6884 - val_loss: 0.1999 - val_accuracy: 0.6829 - val_f1_score: 0.6923\n",
      "Epoch 46/50\n",
      "247/247 [==============================] - 8s 31ms/step - loss: 0.2071 - accuracy: 0.6805 - f1_score: 0.6882 - val_loss: 0.1991 - val_accuracy: 0.6876 - val_f1_score: 0.6900\n",
      "Epoch 47/50\n",
      "247/247 [==============================] - 8s 31ms/step - loss: 0.2033 - accuracy: 0.6856 - f1_score: 0.6862 - val_loss: 0.1977 - val_accuracy: 0.6871 - val_f1_score: 0.6900\n",
      "Epoch 48/50\n",
      "247/247 [==============================] - 8s 31ms/step - loss: 0.2103 - accuracy: 0.6913 - f1_score: 0.6935 - val_loss: 0.1961 - val_accuracy: 0.6932 - val_f1_score: 0.7040\n",
      "Epoch 49/50\n",
      "247/247 [==============================] - 8s 31ms/step - loss: 0.2179 - accuracy: 0.6943 - f1_score: 0.7029 - val_loss: 0.1946 - val_accuracy: 0.6985 - val_f1_score: 0.7091\n",
      "Epoch 50/50\n",
      "247/247 [==============================] - 8s 31ms/step - loss: 0.2050 - accuracy: 0.6992 - f1_score: 0.7079 - val_loss: 0.1945 - val_accuracy: 0.7000 - val_f1_score: 0.7083\n"
     ]
    }
   ],
   "source": [
    "\n",
    "history = model.fit(\n",
    "    train_data, np.array(label), batch_size=512, epochs=50, validation_split=0.3,callbacks=[pat])"
   ]
  },
  {
   "cell_type": "code",
   "execution_count": 270,
   "id": "a7629e06",
   "metadata": {},
   "outputs": [
    {
     "data": {
      "text/plain": [
       "[<matplotlib.lines.Line2D at 0x25f544dc0a0>]"
      ]
     },
     "execution_count": 270,
     "metadata": {},
     "output_type": "execute_result"
    },
    {
     "data": {
      "image/png": "[encoded data removed]",
      "text/plain": [
       "<Figure size 640x480 with 1 Axes>"
      ]
     },
     "metadata": {},
     "output_type": "display_data"
    }
   ],
   "source": [
    "plt.plot(history.history['loss'])\n",
    "plt.plot(history.history['val_loss'])"
   ]
  },
  {
   "cell_type": "code",
   "execution_count": 271,
   "id": "a3b2bea0",
   "metadata": {},
   "outputs": [
    {
     "data": {
      "text/plain": [
       "[<matplotlib.lines.Line2D at 0x25e31010550>]"
      ]
     },
     "execution_count": 271,
     "metadata": {},
     "output_type": "execute_result"
    },
    {
     "data": {
      "image/png": "[encoded data removed]",
      "text/plain": [
       "<Figure size 640x480 with 1 Axes>"
      ]
     },
     "metadata": {},
     "output_type": "display_data"
    }
   ],
   "source": [
    "plt.plot(history.history['accuracy'])\n",
    "plt.plot(history.history['val_accuracy'])"
   ]
  },
  {
   "cell_type": "code",
   "execution_count": 272,
   "id": "61a446e5",
   "metadata": {},
   "outputs": [
    {
     "data": {
      "text/plain": [
       "[<matplotlib.lines.Line2D at 0x25e313eaa30>]"
      ]
     },
     "execution_count": 272,
     "metadata": {},
     "output_type": "execute_result"
    },
    {
     "data": {
      "image/png": "[encoded data removed]",
      "text/plain": [
       "<Figure size 640x480 with 1 Axes>"
      ]
     },
     "metadata": {},
     "output_type": "display_data"
    }
   ],
   "source": [
    "plt.plot(history.history['f1_score'])\n",
    "plt.plot(history.history['val_f1_score'])"
   ]
  },
  {
   "cell_type": "code",
   "execution_count": 273,
   "id": "9a4c226e",
   "metadata": {
    "scrolled": true
   },
   "outputs": [
    {
     "data": {
      "text/plain": [
       "array([1052439, 1130800, 1177330, ..., 1149489, 1025940, 1070083],\n",
       "      dtype=int64)"
      ]
     },
     "execution_count": 273,
     "metadata": {},
     "output_type": "execute_result"
    }
   ],
   "source": [
    "ids=np.array(df1['id'])\n",
    "ids"
   ]
  },
  {
   "cell_type": "code",
   "execution_count": 274,
   "id": "f36c3798",
   "metadata": {},
   "outputs": [
    {
     "name": "stdout",
     "output_type": "stream",
     "text": [
      "1380/1380 [==============================] - 7s 4ms/step\n"
     ]
    }
   ],
   "source": [
    "n=np.array(model.predict(test_data))"
   ]
  },
  {
   "cell_type": "code",
   "execution_count": 275,
   "id": "f49eee9f",
   "metadata": {},
   "outputs": [],
   "source": [
    "out={'id':[],'price_value':[],'fake_originality':[],'warranty':[],'size':[],'discrepancy':[],'flavor_odor':[],'expiration_date':[]}"
   ]
  },
  {
   "cell_type": "code",
   "execution_count": 276,
   "id": "5414f2ac",
   "metadata": {},
   "outputs": [],
   "source": [
    "for i in range(len(b)):\n",
    "    biner=bin(int(float(ohe.get_feature_names_out()[n[i].argmax()][3:])))[2:]\n",
    "    lab=''\n",
    "    if len(biner)==7:\n",
    "        lab=biner\n",
    "    elif len(biner)<7:\n",
    "        lab=biner+((7-len(biner))*'0')\n",
    "    out['id'].append(ids[i])\n",
    "    out['price_value'].append(int(lab[0]))\n",
    "    out['fake_originality'].append(int(lab[1]))\n",
    "    out['warranty'].append(int(lab[2]))\n",
    "    out['size'].append(int(lab[3]))\n",
    "    out['discrepancy'].append(int(lab[4]))\n",
    "    out['flavor_odor'].append(int(lab[5]))\n",
    "    out['expiration_date'].append(int(lab[6]))"
   ]
  },
  {
   "cell_type": "code",
   "execution_count": null,
   "id": "4187f13c",
   "metadata": {},
   "outputs": [],
   "source": []
  },
  {
   "cell_type": "code",
   "execution_count": 279,
   "id": "d46602a2",
   "metadata": {},
   "outputs": [],
   "source": [
    "pd.DataFrame(out).to_csv('out17.csv')"
   ]
  },
  {
   "cell_type": "code",
   "execution_count": null,
   "id": "a849f38b",
   "metadata": {},
   "outputs": [],
   "source": [
    "for i in range(len(n)):\n",
    "    for j in range(len(n[i])):\n",
    "        if n[i][j]>=0.9:\n",
    "            n[i][j]=1\n",
    "        else: n[i][j]=0"
   ]
  },
  {
   "cell_type": "code",
   "execution_count": 192,
   "id": "af26c6da",
   "metadata": {},
   "outputs": [
    {
     "data": {
      "text/html": [
       "<div>\n",
       "<style scoped>\n",
       "    .dataframe tbody tr th:only-of-type {\n",
       "        vertical-align: middle;\n",
       "    }\n",
       "\n",
       "    .dataframe tbody tr th {\n",
       "        vertical-align: top;\n",
       "    }\n",
       "\n",
       "    .dataframe thead th {\n",
       "        text-align: right;\n",
       "    }\n",
       "</style>\n",
       "<table border=\"1\" class=\"dataframe\">\n",
       "  <thead>\n",
       "    <tr style=\"text-align: right;\">\n",
       "      <th></th>\n",
       "      <th>price_value</th>\n",
       "      <th>fake_originality</th>\n",
       "      <th>warranty</th>\n",
       "      <th>size</th>\n",
       "      <th>discrepancy</th>\n",
       "      <th>flavor_odor</th>\n",
       "      <th>expiration_date</th>\n",
       "    </tr>\n",
       "  </thead>\n",
       "  <tbody>\n",
       "  </tbody>\n",
       "</table>\n",
       "</div>"
      ],
      "text/plain": [
       "Empty DataFrame\n",
       "Columns: [price_value, fake_originality, warranty, size, discrepancy, flavor_odor, expiration_date]\n",
       "Index: []"
      ]
     },
     "execution_count": 192,
     "metadata": {},
     "output_type": "execute_result"
    }
   ],
   "source": [
    "out1=pd.DataFrame(out,columns=[,,\n",
    "                              ,,,',\n",
    "                              ])\n",
    "out1"
   ]
  },
  {
   "cell_type": "code",
   "execution_count": 188,
   "id": "aab3416c",
   "metadata": {
    "scrolled": true
   },
   "outputs": [
    {
     "data": {
      "text/html": [
       "<div>\n",
       "<style scoped>\n",
       "    .dataframe tbody tr th:only-of-type {\n",
       "        vertical-align: middle;\n",
       "    }\n",
       "\n",
       "    .dataframe tbody tr th {\n",
       "        vertical-align: top;\n",
       "    }\n",
       "\n",
       "    .dataframe thead th {\n",
       "        text-align: right;\n",
       "    }\n",
       "</style>\n",
       "<table border=\"1\" class=\"dataframe\">\n",
       "  <thead>\n",
       "    <tr style=\"text-align: right;\">\n",
       "      <th></th>\n",
       "      <th>id</th>\n",
       "      <th>price_value</th>\n",
       "      <th>fake_originality</th>\n",
       "      <th>warranty</th>\n",
       "      <th>size</th>\n",
       "      <th>discrepancy</th>\n",
       "      <th>flavor_odor</th>\n",
       "      <th>expiration_date</th>\n",
       "    </tr>\n",
       "  </thead>\n",
       "  <tbody>\n",
       "    <tr>\n",
       "      <th>0</th>\n",
       "      <td>1052439</td>\n",
       "      <td>NaN</td>\n",
       "      <td>NaN</td>\n",
       "      <td>NaN</td>\n",
       "      <td>NaN</td>\n",
       "      <td>NaN</td>\n",
       "      <td>NaN</td>\n",
       "      <td>NaN</td>\n",
       "    </tr>\n",
       "    <tr>\n",
       "      <th>1</th>\n",
       "      <td>1130800</td>\n",
       "      <td>NaN</td>\n",
       "      <td>NaN</td>\n",
       "      <td>NaN</td>\n",
       "      <td>NaN</td>\n",
       "      <td>NaN</td>\n",
       "      <td>NaN</td>\n",
       "      <td>NaN</td>\n",
       "    </tr>\n",
       "    <tr>\n",
       "      <th>2</th>\n",
       "      <td>1177330</td>\n",
       "      <td>NaN</td>\n",
       "      <td>NaN</td>\n",
       "      <td>NaN</td>\n",
       "      <td>NaN</td>\n",
       "      <td>NaN</td>\n",
       "      <td>NaN</td>\n",
       "      <td>NaN</td>\n",
       "    </tr>\n",
       "    <tr>\n",
       "      <th>3</th>\n",
       "      <td>1047314</td>\n",
       "      <td>NaN</td>\n",
       "      <td>NaN</td>\n",
       "      <td>NaN</td>\n",
       "      <td>NaN</td>\n",
       "      <td>NaN</td>\n",
       "      <td>NaN</td>\n",
       "      <td>NaN</td>\n",
       "    </tr>\n",
       "    <tr>\n",
       "      <th>4</th>\n",
       "      <td>1096710</td>\n",
       "      <td>NaN</td>\n",
       "      <td>NaN</td>\n",
       "      <td>NaN</td>\n",
       "      <td>NaN</td>\n",
       "      <td>NaN</td>\n",
       "      <td>NaN</td>\n",
       "      <td>NaN</td>\n",
       "    </tr>\n",
       "    <tr>\n",
       "      <th>5</th>\n",
       "      <td>1164162</td>\n",
       "      <td>NaN</td>\n",
       "      <td>NaN</td>\n",
       "      <td>NaN</td>\n",
       "      <td>NaN</td>\n",
       "      <td>NaN</td>\n",
       "      <td>NaN</td>\n",
       "      <td>NaN</td>\n",
       "    </tr>\n",
       "    <tr>\n",
       "      <th>6</th>\n",
       "      <td>1012415</td>\n",
       "      <td>NaN</td>\n",
       "      <td>NaN</td>\n",
       "      <td>NaN</td>\n",
       "      <td>NaN</td>\n",
       "      <td>NaN</td>\n",
       "      <td>NaN</td>\n",
       "      <td>NaN</td>\n",
       "    </tr>\n",
       "    <tr>\n",
       "      <th>7</th>\n",
       "      <td>1039627</td>\n",
       "      <td>NaN</td>\n",
       "      <td>NaN</td>\n",
       "      <td>NaN</td>\n",
       "      <td>NaN</td>\n",
       "      <td>NaN</td>\n",
       "      <td>NaN</td>\n",
       "      <td>NaN</td>\n",
       "    </tr>\n",
       "    <tr>\n",
       "      <th>8</th>\n",
       "      <td>1145984</td>\n",
       "      <td>NaN</td>\n",
       "      <td>NaN</td>\n",
       "      <td>NaN</td>\n",
       "      <td>NaN</td>\n",
       "      <td>NaN</td>\n",
       "      <td>NaN</td>\n",
       "      <td>NaN</td>\n",
       "    </tr>\n",
       "    <tr>\n",
       "      <th>9</th>\n",
       "      <td>1268145</td>\n",
       "      <td>NaN</td>\n",
       "      <td>NaN</td>\n",
       "      <td>NaN</td>\n",
       "      <td>NaN</td>\n",
       "      <td>NaN</td>\n",
       "      <td>NaN</td>\n",
       "      <td>NaN</td>\n",
       "    </tr>\n",
       "    <tr>\n",
       "      <th>10</th>\n",
       "      <td>1107967</td>\n",
       "      <td>NaN</td>\n",
       "      <td>NaN</td>\n",
       "      <td>NaN</td>\n",
       "      <td>NaN</td>\n",
       "      <td>NaN</td>\n",
       "      <td>NaN</td>\n",
       "      <td>NaN</td>\n",
       "    </tr>\n",
       "    <tr>\n",
       "      <th>11</th>\n",
       "      <td>1270911</td>\n",
       "      <td>NaN</td>\n",
       "      <td>NaN</td>\n",
       "      <td>NaN</td>\n",
       "      <td>NaN</td>\n",
       "      <td>NaN</td>\n",
       "      <td>NaN</td>\n",
       "      <td>NaN</td>\n",
       "    </tr>\n",
       "    <tr>\n",
       "      <th>12</th>\n",
       "      <td>1014188</td>\n",
       "      <td>NaN</td>\n",
       "      <td>NaN</td>\n",
       "      <td>NaN</td>\n",
       "      <td>NaN</td>\n",
       "      <td>NaN</td>\n",
       "      <td>NaN</td>\n",
       "      <td>NaN</td>\n",
       "    </tr>\n",
       "    <tr>\n",
       "      <th>13</th>\n",
       "      <td>1178055</td>\n",
       "      <td>NaN</td>\n",
       "      <td>NaN</td>\n",
       "      <td>NaN</td>\n",
       "      <td>NaN</td>\n",
       "      <td>NaN</td>\n",
       "      <td>NaN</td>\n",
       "      <td>NaN</td>\n",
       "    </tr>\n",
       "    <tr>\n",
       "      <th>14</th>\n",
       "      <td>1170877</td>\n",
       "      <td>NaN</td>\n",
       "      <td>NaN</td>\n",
       "      <td>NaN</td>\n",
       "      <td>NaN</td>\n",
       "      <td>NaN</td>\n",
       "      <td>NaN</td>\n",
       "      <td>NaN</td>\n",
       "    </tr>\n",
       "    <tr>\n",
       "      <th>15</th>\n",
       "      <td>1141466</td>\n",
       "      <td>NaN</td>\n",
       "      <td>NaN</td>\n",
       "      <td>NaN</td>\n",
       "      <td>NaN</td>\n",
       "      <td>NaN</td>\n",
       "      <td>NaN</td>\n",
       "      <td>NaN</td>\n",
       "    </tr>\n",
       "    <tr>\n",
       "      <th>16</th>\n",
       "      <td>1102101</td>\n",
       "      <td>NaN</td>\n",
       "      <td>NaN</td>\n",
       "      <td>NaN</td>\n",
       "      <td>NaN</td>\n",
       "      <td>NaN</td>\n",
       "      <td>NaN</td>\n",
       "      <td>NaN</td>\n",
       "    </tr>\n",
       "    <tr>\n",
       "      <th>17</th>\n",
       "      <td>1211377</td>\n",
       "      <td>NaN</td>\n",
       "      <td>NaN</td>\n",
       "      <td>NaN</td>\n",
       "      <td>NaN</td>\n",
       "      <td>NaN</td>\n",
       "      <td>NaN</td>\n",
       "      <td>NaN</td>\n",
       "    </tr>\n",
       "    <tr>\n",
       "      <th>18</th>\n",
       "      <td>1030684</td>\n",
       "      <td>NaN</td>\n",
       "      <td>NaN</td>\n",
       "      <td>NaN</td>\n",
       "      <td>NaN</td>\n",
       "      <td>NaN</td>\n",
       "      <td>NaN</td>\n",
       "      <td>NaN</td>\n",
       "    </tr>\n",
       "    <tr>\n",
       "      <th>19</th>\n",
       "      <td>1249583</td>\n",
       "      <td>NaN</td>\n",
       "      <td>NaN</td>\n",
       "      <td>NaN</td>\n",
       "      <td>NaN</td>\n",
       "      <td>NaN</td>\n",
       "      <td>NaN</td>\n",
       "      <td>NaN</td>\n",
       "    </tr>\n",
       "  </tbody>\n",
       "</table>\n",
       "</div>"
      ],
      "text/plain": [
       "         id price_value fake_originality warranty size discrepancy  \\\n",
       "0   1052439         NaN              NaN      NaN  NaN         NaN   \n",
       "1   1130800         NaN              NaN      NaN  NaN         NaN   \n",
       "2   1177330         NaN              NaN      NaN  NaN         NaN   \n",
       "3   1047314         NaN              NaN      NaN  NaN         NaN   \n",
       "4   1096710         NaN              NaN      NaN  NaN         NaN   \n",
       "5   1164162         NaN              NaN      NaN  NaN         NaN   \n",
       "6   1012415         NaN              NaN      NaN  NaN         NaN   \n",
       "7   1039627         NaN              NaN      NaN  NaN         NaN   \n",
       "8   1145984         NaN              NaN      NaN  NaN         NaN   \n",
       "9   1268145         NaN              NaN      NaN  NaN         NaN   \n",
       "10  1107967         NaN              NaN      NaN  NaN         NaN   \n",
       "11  1270911         NaN              NaN      NaN  NaN         NaN   \n",
       "12  1014188         NaN              NaN      NaN  NaN         NaN   \n",
       "13  1178055         NaN              NaN      NaN  NaN         NaN   \n",
       "14  1170877         NaN              NaN      NaN  NaN         NaN   \n",
       "15  1141466         NaN              NaN      NaN  NaN         NaN   \n",
       "16  1102101         NaN              NaN      NaN  NaN         NaN   \n",
       "17  1211377         NaN              NaN      NaN  NaN         NaN   \n",
       "18  1030684         NaN              NaN      NaN  NaN         NaN   \n",
       "19  1249583         NaN              NaN      NaN  NaN         NaN   \n",
       "\n",
       "   flavor_odor expiration_date  \n",
       "0          NaN             NaN  \n",
       "1          NaN             NaN  \n",
       "2          NaN             NaN  \n",
       "3          NaN             NaN  \n",
       "4          NaN             NaN  \n",
       "5          NaN             NaN  \n",
       "6          NaN             NaN  \n",
       "7          NaN             NaN  \n",
       "8          NaN             NaN  \n",
       "9          NaN             NaN  \n",
       "10         NaN             NaN  \n",
       "11         NaN             NaN  \n",
       "12         NaN             NaN  \n",
       "13         NaN             NaN  \n",
       "14         NaN             NaN  \n",
       "15         NaN             NaN  \n",
       "16         NaN             NaN  \n",
       "17         NaN             NaN  \n",
       "18         NaN             NaN  \n",
       "19         NaN             NaN  "
      ]
     },
     "execution_count": 188,
     "metadata": {},
     "output_type": "execute_result"
    }
   ],
   "source": [
    "pre=pd.concat([df1['id'],out1],axis=1)\n",
    "pre.head(20)"
   ]
  },
  {
   "cell_type": "code",
   "execution_count": 63,
   "id": "08d1cf12",
   "metadata": {},
   "outputs": [],
   "source": [
    "pre.to_csv('out16.csv')"
   ]
  },
  {
   "cell_type": "code",
   "execution_count": 280,
   "id": "d0412d1b",
   "metadata": {},
   "outputs": [],
   "source": [
    "from sklearn.ensemble import RandomForestClassifier"
   ]
  },
  {
   "cell_type": "code",
   "execution_count": 281,
   "id": "aef0bd2f",
   "metadata": {},
   "outputs": [],
   "source": [
    "m=RandomForestClassifier()"
   ]
  },
  {
   "cell_type": "code",
   "execution_count": 282,
   "id": "5f150608",
   "metadata": {},
   "outputs": [
    {
     "data": {
      "text/html": [
       "<style>#sk-container-id-1 {color: black;background-color: white;}#sk-container-id-1 pre{padding: 0;}#sk-container-id-1 div.sk-toggleable {background-color: white;}#sk-container-id-1 label.sk-toggleable__label {cursor: pointer;display: block;width: 100%;margin-bottom: 0;padding: 0.3em;box-sizing: border-box;text-align: center;}#sk-container-id-1 label.sk-toggleable__label-arrow:before {content: \"▸\";float: left;margin-right: 0.25em;color: #696969;}#sk-container-id-1 label.sk-toggleable__label-arrow:hover:before {color: black;}#sk-container-id-1 div.sk-estimator:hover label.sk-toggleable__label-arrow:before {color: black;}#sk-container-id-1 div.sk-toggleable__content {max-height: 0;max-width: 0;overflow: hidden;text-align: left;background-color: #f0f8ff;}#sk-container-id-1 div.sk-toggleable__content pre {margin: 0.2em;color: black;border-radius: 0.25em;background-color: #f0f8ff;}#sk-container-id-1 input.sk-toggleable__control:checked~div.sk-toggleable__content {max-height: 200px;max-width: 100%;overflow: auto;}#sk-container-id-1 input.sk-toggleable__control:checked~label.sk-toggleable__label-arrow:before {content: \"▾\";}#sk-container-id-1 div.sk-estimator input.sk-toggleable__control:checked~label.sk-toggleable__label {background-color: #d4ebff;}#sk-container-id-1 div.sk-label input.sk-toggleable__control:checked~label.sk-toggleable__label {background-color: #d4ebff;}#sk-container-id-1 input.sk-hidden--visually {border: 0;clip: rect(1px 1px 1px 1px);clip: rect(1px, 1px, 1px, 1px);height: 1px;margin: -1px;overflow: hidden;padding: 0;position: absolute;width: 1px;}#sk-container-id-1 div.sk-estimator {font-family: monospace;background-color: #f0f8ff;border: 1px dotted black;border-radius: 0.25em;box-sizing: border-box;margin-bottom: 0.5em;}#sk-container-id-1 div.sk-estimator:hover {background-color: #d4ebff;}#sk-container-id-1 div.sk-parallel-item::after {content: \"\";width: 100%;border-bottom: 1px solid gray;flex-grow: 1;}#sk-container-id-1 div.sk-label:hover label.sk-toggleable__label {background-color: #d4ebff;}#sk-container-id-1 div.sk-serial::before {content: \"\";position: absolute;border-left: 1px solid gray;box-sizing: border-box;top: 0;bottom: 0;left: 50%;z-index: 0;}#sk-container-id-1 div.sk-serial {display: flex;flex-direction: column;align-items: center;background-color: white;padding-right: 0.2em;padding-left: 0.2em;position: relative;}#sk-container-id-1 div.sk-item {position: relative;z-index: 1;}#sk-container-id-1 div.sk-parallel {display: flex;align-items: stretch;justify-content: center;background-color: white;position: relative;}#sk-container-id-1 div.sk-item::before, #sk-container-id-1 div.sk-parallel-item::before {content: \"\";position: absolute;border-left: 1px solid gray;box-sizing: border-box;top: 0;bottom: 0;left: 50%;z-index: -1;}#sk-container-id-1 div.sk-parallel-item {display: flex;flex-direction: column;z-index: 1;position: relative;background-color: white;}#sk-container-id-1 div.sk-parallel-item:first-child::after {align-self: flex-end;width: 50%;}#sk-container-id-1 div.sk-parallel-item:last-child::after {align-self: flex-start;width: 50%;}#sk-container-id-1 div.sk-parallel-item:only-child::after {width: 0;}#sk-container-id-1 div.sk-dashed-wrapped {border: 1px dashed gray;margin: 0 0.4em 0.5em 0.4em;box-sizing: border-box;padding-bottom: 0.4em;background-color: white;}#sk-container-id-1 div.sk-label label {font-family: monospace;font-weight: bold;display: inline-block;line-height: 1.2em;}#sk-container-id-1 div.sk-label-container {text-align: center;}#sk-container-id-1 div.sk-container {/* jupyter's `normalize.less` sets `[hidden] { display: none; }` but bootstrap.min.css set `[hidden] { display: none !important; }` so we also need the `!important` here to be able to override the default hidden behavior on the sphinx rendered scikit-learn.org. See: https://github.com/scikit-learn/scikit-learn/issues/21755 */display: inline-block !important;position: relative;}#sk-container-id-1 div.sk-text-repr-fallback {display: none;}</style><div id=\"sk-container-id-1\" class=\"sk-top-container\"><div class=\"sk-text-repr-fallback\"><pre>RandomForestClassifier()</pre><b>In a Jupyter environment, please rerun this cell to show the HTML representation or trust the notebook. <br />On GitHub, the HTML representation is unable to render, please try loading this page with nbviewer.org.</b></div><div class=\"sk-container\" hidden><div class=\"sk-item\"><div class=\"sk-estimator sk-toggleable\"><input class=\"sk-toggleable__control sk-hidden--visually\" id=\"sk-estimator-id-1\" type=\"checkbox\" checked><label for=\"sk-estimator-id-1\" class=\"sk-toggleable__label sk-toggleable__label-arrow\">RandomForestClassifier</label><div class=\"sk-toggleable__content\"><pre>RandomForestClassifier()</pre></div></div></div></div></div>"
      ],
      "text/plain": [
       "RandomForestClassifier()"
      ]
     },
     "execution_count": 282,
     "metadata": {},
     "output_type": "execute_result"
    }
   ],
   "source": [
    "m.fit(train_data, np.array(label))"
   ]
  },
  {
   "cell_type": "code",
   "execution_count": 283,
   "id": "8006a82a",
   "metadata": {},
   "outputs": [
    {
     "data": {
      "text/plain": [
       "0.981310488127382"
      ]
     },
     "execution_count": 283,
     "metadata": {},
     "output_type": "execute_result"
    }
   ],
   "source": [
    "m.score(train_data, np.array(label))"
   ]
  },
  {
   "cell_type": "code",
   "execution_count": 285,
   "id": "65738123",
   "metadata": {},
   "outputs": [],
   "source": [
    "qqq=m.predict(test_data)"
   ]
  },
  {
   "cell_type": "code",
   "execution_count": 288,
   "id": "c7f8f2cc",
   "metadata": {},
   "outputs": [
    {
     "data": {
      "text/html": [
       "<div>\n",
       "<style scoped>\n",
       "    .dataframe tbody tr th:only-of-type {\n",
       "        vertical-align: middle;\n",
       "    }\n",
       "\n",
       "    .dataframe tbody tr th {\n",
       "        vertical-align: top;\n",
       "    }\n",
       "\n",
       "    .dataframe thead th {\n",
       "        text-align: right;\n",
       "    }\n",
       "</style>\n",
       "<table border=\"1\" class=\"dataframe\">\n",
       "  <thead>\n",
       "    <tr style=\"text-align: right;\">\n",
       "      <th></th>\n",
       "      <th>0</th>\n",
       "      <th>1</th>\n",
       "      <th>2</th>\n",
       "      <th>3</th>\n",
       "      <th>4</th>\n",
       "      <th>5</th>\n",
       "      <th>6</th>\n",
       "      <th>7</th>\n",
       "      <th>8</th>\n",
       "      <th>9</th>\n",
       "      <th>...</th>\n",
       "      <th>47</th>\n",
       "      <th>48</th>\n",
       "      <th>49</th>\n",
       "      <th>50</th>\n",
       "      <th>51</th>\n",
       "      <th>52</th>\n",
       "      <th>53</th>\n",
       "      <th>54</th>\n",
       "      <th>55</th>\n",
       "      <th>56</th>\n",
       "    </tr>\n",
       "  </thead>\n",
       "  <tbody>\n",
       "    <tr>\n",
       "      <th>count</th>\n",
       "      <td>44131.000000</td>\n",
       "      <td>44131.000000</td>\n",
       "      <td>44131.000000</td>\n",
       "      <td>44131.0</td>\n",
       "      <td>44131.000000</td>\n",
       "      <td>44131.0</td>\n",
       "      <td>44131.0</td>\n",
       "      <td>44131.0</td>\n",
       "      <td>44131.000000</td>\n",
       "      <td>44131.0</td>\n",
       "      <td>...</td>\n",
       "      <td>44131.0</td>\n",
       "      <td>44131.0</td>\n",
       "      <td>44131.0</td>\n",
       "      <td>44131.0</td>\n",
       "      <td>44131.0</td>\n",
       "      <td>44131.0</td>\n",
       "      <td>44131.0</td>\n",
       "      <td>44131.0</td>\n",
       "      <td>44131.0</td>\n",
       "      <td>44131.0</td>\n",
       "    </tr>\n",
       "    <tr>\n",
       "      <th>mean</th>\n",
       "      <td>0.667127</td>\n",
       "      <td>0.000272</td>\n",
       "      <td>0.019805</td>\n",
       "      <td>0.0</td>\n",
       "      <td>0.004464</td>\n",
       "      <td>0.0</td>\n",
       "      <td>0.0</td>\n",
       "      <td>0.0</td>\n",
       "      <td>0.015205</td>\n",
       "      <td>0.0</td>\n",
       "      <td>...</td>\n",
       "      <td>0.0</td>\n",
       "      <td>0.0</td>\n",
       "      <td>0.0</td>\n",
       "      <td>0.0</td>\n",
       "      <td>0.0</td>\n",
       "      <td>0.0</td>\n",
       "      <td>0.0</td>\n",
       "      <td>0.0</td>\n",
       "      <td>0.0</td>\n",
       "      <td>0.0</td>\n",
       "    </tr>\n",
       "    <tr>\n",
       "      <th>std</th>\n",
       "      <td>0.471247</td>\n",
       "      <td>0.016488</td>\n",
       "      <td>0.139330</td>\n",
       "      <td>0.0</td>\n",
       "      <td>0.066665</td>\n",
       "      <td>0.0</td>\n",
       "      <td>0.0</td>\n",
       "      <td>0.0</td>\n",
       "      <td>0.122368</td>\n",
       "      <td>0.0</td>\n",
       "      <td>...</td>\n",
       "      <td>0.0</td>\n",
       "      <td>0.0</td>\n",
       "      <td>0.0</td>\n",
       "      <td>0.0</td>\n",
       "      <td>0.0</td>\n",
       "      <td>0.0</td>\n",
       "      <td>0.0</td>\n",
       "      <td>0.0</td>\n",
       "      <td>0.0</td>\n",
       "      <td>0.0</td>\n",
       "    </tr>\n",
       "    <tr>\n",
       "      <th>min</th>\n",
       "      <td>0.000000</td>\n",
       "      <td>0.000000</td>\n",
       "      <td>0.000000</td>\n",
       "      <td>0.0</td>\n",
       "      <td>0.000000</td>\n",
       "      <td>0.0</td>\n",
       "      <td>0.0</td>\n",
       "      <td>0.0</td>\n",
       "      <td>0.000000</td>\n",
       "      <td>0.0</td>\n",
       "      <td>...</td>\n",
       "      <td>0.0</td>\n",
       "      <td>0.0</td>\n",
       "      <td>0.0</td>\n",
       "      <td>0.0</td>\n",
       "      <td>0.0</td>\n",
       "      <td>0.0</td>\n",
       "      <td>0.0</td>\n",
       "      <td>0.0</td>\n",
       "      <td>0.0</td>\n",
       "      <td>0.0</td>\n",
       "    </tr>\n",
       "    <tr>\n",
       "      <th>25%</th>\n",
       "      <td>0.000000</td>\n",
       "      <td>0.000000</td>\n",
       "      <td>0.000000</td>\n",
       "      <td>0.0</td>\n",
       "      <td>0.000000</td>\n",
       "      <td>0.0</td>\n",
       "      <td>0.0</td>\n",
       "      <td>0.0</td>\n",
       "      <td>0.000000</td>\n",
       "      <td>0.0</td>\n",
       "      <td>...</td>\n",
       "      <td>0.0</td>\n",
       "      <td>0.0</td>\n",
       "      <td>0.0</td>\n",
       "      <td>0.0</td>\n",
       "      <td>0.0</td>\n",
       "      <td>0.0</td>\n",
       "      <td>0.0</td>\n",
       "      <td>0.0</td>\n",
       "      <td>0.0</td>\n",
       "      <td>0.0</td>\n",
       "    </tr>\n",
       "    <tr>\n",
       "      <th>50%</th>\n",
       "      <td>1.000000</td>\n",
       "      <td>0.000000</td>\n",
       "      <td>0.000000</td>\n",
       "      <td>0.0</td>\n",
       "      <td>0.000000</td>\n",
       "      <td>0.0</td>\n",
       "      <td>0.0</td>\n",
       "      <td>0.0</td>\n",
       "      <td>0.000000</td>\n",
       "      <td>0.0</td>\n",
       "      <td>...</td>\n",
       "      <td>0.0</td>\n",
       "      <td>0.0</td>\n",
       "      <td>0.0</td>\n",
       "      <td>0.0</td>\n",
       "      <td>0.0</td>\n",
       "      <td>0.0</td>\n",
       "      <td>0.0</td>\n",
       "      <td>0.0</td>\n",
       "      <td>0.0</td>\n",
       "      <td>0.0</td>\n",
       "    </tr>\n",
       "    <tr>\n",
       "      <th>75%</th>\n",
       "      <td>1.000000</td>\n",
       "      <td>0.000000</td>\n",
       "      <td>0.000000</td>\n",
       "      <td>0.0</td>\n",
       "      <td>0.000000</td>\n",
       "      <td>0.0</td>\n",
       "      <td>0.0</td>\n",
       "      <td>0.0</td>\n",
       "      <td>0.000000</td>\n",
       "      <td>0.0</td>\n",
       "      <td>...</td>\n",
       "      <td>0.0</td>\n",
       "      <td>0.0</td>\n",
       "      <td>0.0</td>\n",
       "      <td>0.0</td>\n",
       "      <td>0.0</td>\n",
       "      <td>0.0</td>\n",
       "      <td>0.0</td>\n",
       "      <td>0.0</td>\n",
       "      <td>0.0</td>\n",
       "      <td>0.0</td>\n",
       "    </tr>\n",
       "    <tr>\n",
       "      <th>max</th>\n",
       "      <td>1.000000</td>\n",
       "      <td>1.000000</td>\n",
       "      <td>1.000000</td>\n",
       "      <td>0.0</td>\n",
       "      <td>1.000000</td>\n",
       "      <td>0.0</td>\n",
       "      <td>0.0</td>\n",
       "      <td>0.0</td>\n",
       "      <td>1.000000</td>\n",
       "      <td>0.0</td>\n",
       "      <td>...</td>\n",
       "      <td>0.0</td>\n",
       "      <td>0.0</td>\n",
       "      <td>0.0</td>\n",
       "      <td>0.0</td>\n",
       "      <td>0.0</td>\n",
       "      <td>0.0</td>\n",
       "      <td>0.0</td>\n",
       "      <td>0.0</td>\n",
       "      <td>0.0</td>\n",
       "      <td>0.0</td>\n",
       "    </tr>\n",
       "  </tbody>\n",
       "</table>\n",
       "<p>8 rows × 57 columns</p>\n",
       "</div>"
      ],
      "text/plain": [
       "                 0             1             2        3             4   \\\n",
       "count  44131.000000  44131.000000  44131.000000  44131.0  44131.000000   \n",
       "mean       0.667127      0.000272      0.019805      0.0      0.004464   \n",
       "std        0.471247      0.016488      0.139330      0.0      0.066665   \n",
       "min        0.000000      0.000000      0.000000      0.0      0.000000   \n",
       "25%        0.000000      0.000000      0.000000      0.0      0.000000   \n",
       "50%        1.000000      0.000000      0.000000      0.0      0.000000   \n",
       "75%        1.000000      0.000000      0.000000      0.0      0.000000   \n",
       "max        1.000000      1.000000      1.000000      0.0      1.000000   \n",
       "\n",
       "            5        6        7             8        9   ...       47  \\\n",
       "count  44131.0  44131.0  44131.0  44131.000000  44131.0  ...  44131.0   \n",
       "mean       0.0      0.0      0.0      0.015205      0.0  ...      0.0   \n",
       "std        0.0      0.0      0.0      0.122368      0.0  ...      0.0   \n",
       "min        0.0      0.0      0.0      0.000000      0.0  ...      0.0   \n",
       "25%        0.0      0.0      0.0      0.000000      0.0  ...      0.0   \n",
       "50%        0.0      0.0      0.0      0.000000      0.0  ...      0.0   \n",
       "75%        0.0      0.0      0.0      0.000000      0.0  ...      0.0   \n",
       "max        0.0      0.0      0.0      1.000000      0.0  ...      0.0   \n",
       "\n",
       "            48       49       50       51       52       53       54       55  \\\n",
       "count  44131.0  44131.0  44131.0  44131.0  44131.0  44131.0  44131.0  44131.0   \n",
       "mean       0.0      0.0      0.0      0.0      0.0      0.0      0.0      0.0   \n",
       "std        0.0      0.0      0.0      0.0      0.0      0.0      0.0      0.0   \n",
       "min        0.0      0.0      0.0      0.0      0.0      0.0      0.0      0.0   \n",
       "25%        0.0      0.0      0.0      0.0      0.0      0.0      0.0      0.0   \n",
       "50%        0.0      0.0      0.0      0.0      0.0      0.0      0.0      0.0   \n",
       "75%        0.0      0.0      0.0      0.0      0.0      0.0      0.0      0.0   \n",
       "max        0.0      0.0      0.0      0.0      0.0      0.0      0.0      0.0   \n",
       "\n",
       "            56  \n",
       "count  44131.0  \n",
       "mean       0.0  \n",
       "std        0.0  \n",
       "min        0.0  \n",
       "25%        0.0  \n",
       "50%        0.0  \n",
       "75%        0.0  \n",
       "max        0.0  \n",
       "\n",
       "[8 rows x 57 columns]"
      ]
     },
     "execution_count": 288,
     "metadata": {},
     "output_type": "execute_result"
    }
   ],
   "source": [
    "pd.DataFrame(qqq).describe()"
   ]
  },
  {
   "cell_type": "code",
   "execution_count": 287,
   "id": "48739c53",
   "metadata": {},
   "outputs": [],
   "source": [
    "out={'id':[],'price_value':[],'fake_originality':[],'warranty':[],'size':[],'discrepancy':[],'flavor_odor':[],'expiration_date':[]}"
   ]
  },
  {
   "cell_type": "code",
   "execution_count": null,
   "id": "92b99459",
   "metadata": {},
   "outputs": [],
   "source": [
    "for i in range(len(b)):\n",
    "    biner=bin(int(float(ohe.get_feature_names_out()[qqq[i].argmax()][3:])))[2:]\n",
    "    lab=''\n",
    "    if len(biner)==7:\n",
    "        lab=biner\n",
    "    elif len(biner)<7:\n",
    "        lab=biner+((7-len(biner))*'0')\n",
    "    out['id'].append(ids[i])\n",
    "    out['price_value'].append(int(lab[0]))\n",
    "    out['fake_originality'].append(int(lab[1]))\n",
    "    out['warranty'].append(int(lab[2]))\n",
    "    out['size'].append(int(lab[3]))\n",
    "    out['discrepancy'].append(int(lab[4]))\n",
    "    out['flavor_odor'].append(int(lab[5]))\n",
    "    out['expiration_date'].append(int(lab[6]))"
   ]
  }
 ],
 "metadata": {
  "kernelspec": {
   "display_name": "Python 3 (ipykernel)",
   "language": "python",
   "name": "python3"
  },
  "language_info": {
   "codemirror_mode": {
    "name": "ipython",
    "version": 3
   },
   "file_extension": ".py",
   "mimetype": "text/x-python",
   "name": "python",
   "nbconvert_exporter": "python",
   "pygments_lexer": "ipython3",
   "version": "3.9.13"
  }
 },
 "nbformat": 4,
 "nbformat_minor": 5
}
